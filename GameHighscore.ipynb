{
 "cells": [
  {
   "cell_type": "code",
   "execution_count": 15,
   "id": "ee913f82-7391-45ae-88e0-707f0ae0a952",
   "metadata": {},
   "outputs": [],
   "source": [
    "import random\n",
    "def game():\n",
    "    with open(\"HighScore.txt\") as f:\n",
    "        hs=f.read()\n",
    "        if(hs==\"\"):\n",
    "            highscore=0\n",
    "        else:\n",
    "            highscore=int(hs)\n",
    "    print(\"You are playing the game...\")\n",
    "    print(f\"The current High Score is {highscore}\")\n",
    "    score=random.randint(1,62)\n",
    "    print(f\"Your score is {score}\")\n",
    "    if(score>highscore):\n",
    "        print(\"Congratulations\")\n",
    "        with open(\"HighScore.txt\",\"w\") as f:\n",
    "            f.write(str(score))\n",
    "    else:\n",
    "        print(\"Better Luck next time!\")"
   ]
  },
  {
   "cell_type": "code",
   "execution_count": 17,
   "id": "b79c1465-0b79-4a8e-9036-930ec9ff34a6",
   "metadata": {},
   "outputs": [
    {
     "name": "stdout",
     "output_type": "stream",
     "text": [
      "You are playing the game...\n",
      "The current High Score is 46\n",
      "Your score is 14\n",
      "Better Luck next time!\n"
     ]
    }
   ],
   "source": [
    "game()"
   ]
  },
  {
   "cell_type": "code",
   "execution_count": 19,
   "id": "47e5dc9a-2f3b-44ef-ac82-a49831518bdc",
   "metadata": {},
   "outputs": [
    {
     "name": "stdout",
     "output_type": "stream",
     "text": [
      "You are playing the game...\n",
      "The current High Score is 46\n",
      "Your score is 37\n",
      "Better Luck next time!\n"
     ]
    }
   ],
   "source": [
    "game()"
   ]
  },
  {
   "cell_type": "code",
   "execution_count": 27,
   "id": "aebbd1d7-f9cb-4314-86ff-ac07ef2dfcf5",
   "metadata": {},
   "outputs": [
    {
     "name": "stdout",
     "output_type": "stream",
     "text": [
      "You are playing the game...\n",
      "The current High Score is 46\n",
      "Your score is 61\n",
      "Congratulations\n"
     ]
    }
   ],
   "source": [
    "game()"
   ]
  },
  {
   "cell_type": "code",
   "execution_count": null,
   "id": "87f11b93-965c-46a9-8e88-73f2dcaaa8e6",
   "metadata": {},
   "outputs": [],
   "source": []
  }
 ],
 "metadata": {
  "kernelspec": {
   "display_name": "Python 3 (ipykernel)",
   "language": "python",
   "name": "python3"
  },
  "language_info": {
   "codemirror_mode": {
    "name": "ipython",
    "version": 3
   },
   "file_extension": ".py",
   "mimetype": "text/x-python",
   "name": "python",
   "nbconvert_exporter": "python",
   "pygments_lexer": "ipython3",
   "version": "3.11.5"
  }
 },
 "nbformat": 4,
 "nbformat_minor": 5
}
